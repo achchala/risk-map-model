{
 "cells": [
  {
   "cell_type": "markdown",
   "id": "d95e7794",
   "metadata": {},
   "source": [
    "# Static Risk Model - Baseline"
   ]
  },
  {
   "cell_type": "code",
   "execution_count": 4,
   "id": "b7503a3d",
   "metadata": {},
   "outputs": [],
   "source": [
    "import geopandas as gpd\n",
    "import matplotlib.pyplot as plt"
   ]
  },
  {
   "cell_type": "code",
   "execution_count": 5,
   "id": "8f25a096",
   "metadata": {},
   "outputs": [
    {
     "name": "stdout",
     "output_type": "stream",
     "text": [
      "   OBJECTID EVENT_UNIQUE_ID                       OCC_DATE OCC_MONTH  \\\n",
      "0         1  GO-20148049982  Wed, 01 Jan 2014 05:00:00 GMT   January   \n",
      "1         2  GO-20148050011  Wed, 01 Jan 2014 05:00:00 GMT   January   \n",
      "2         3  GO-20141260499  Wed, 01 Jan 2014 05:00:00 GMT   January   \n",
      "3         4  GO-20141260663  Wed, 01 Jan 2014 05:00:00 GMT   January   \n",
      "4         5  GO-20141261162  Wed, 01 Jan 2014 05:00:00 GMT   January   \n",
      "\n",
      "     OCC_DOW OCC_YEAR OCC_HOUR DIVISION  FATALITIES INJURY_COLLISIONS  ...  \\\n",
      "0  Wednesday     2014       14      D42           0                NO  ...   \n",
      "1  Wednesday     2014        7      NSA           0                NO  ...   \n",
      "2  Wednesday     2014        2      NSA           0               YES  ...   \n",
      "3  Wednesday     2014        3      NSA           0                NO  ...   \n",
      "4  Wednesday     2014        5      NSA           0               YES  ...   \n",
      "\n",
      "  HOOD_158             NEIGHBOURHOOD_158 LONG_WGS84 LAT_WGS84  AUTOMOBILE  \\\n",
      "0      118  Tam O'Shanter-Sullivan (118) -79.293463  43.78212         N/R   \n",
      "1      NSA                           NSA   0.000000   0.00000         YES   \n",
      "2      NSA                           NSA   0.000000   0.00000         YES   \n",
      "3      NSA                           NSA   0.000000   0.00000         YES   \n",
      "4      NSA                           NSA   0.000000   0.00000         YES   \n",
      "\n",
      "   MOTORCYCLE PASSENGER BICYCLE PEDESTRIAN                    geometry  \n",
      "0         N/R       N/R     N/R        N/R  POINT (-79.29346 43.78212)  \n",
      "1          NO        NO      NO         NO     POINT (0.00000 0.00000)  \n",
      "2          NO        NO      NO         NO     POINT (0.00000 0.00000)  \n",
      "3          NO        NO      NO         NO     POINT (0.00000 0.00000)  \n",
      "4          NO        NO      NO         NO     POINT (0.00000 0.00000)  \n",
      "\n",
      "[5 rows x 22 columns]\n"
     ]
    },
    {
     "data": {
      "image/png": "[encoded data removed]",
      "text/plain": [
       "<Figure size 640x480 with 1 Axes>"
      ]
     },
     "metadata": {},
     "output_type": "display_data"
    }
   ],
   "source": [
    "\n",
    "ksi_gdf = gpd.read_file(\"data/KSI.geojson\")  # or .shp\n",
    "\n",
    "print(ksi_gdf.head())\n",
    "\n",
    "# Plot the data\n",
    "ksi_gdf.plot()\n",
    "plt.show()\n"
   ]
  },
  {
   "cell_type": "code",
   "execution_count": 7,
   "id": "abfe759f",
   "metadata": {},
   "outputs": [],
   "source": [
    "ksi_gdf = ksi_gdf.set_crs(\"EPSG:4326\")  # WGS84, if not already set"
   ]
  },
  {
   "cell_type": "code",
   "execution_count": 1,
   "id": "f6211f44",
   "metadata": {},
   "outputs": [
    {
     "ename": "NameError",
     "evalue": "name 'gpd' is not defined",
     "output_type": "error",
     "traceback": [
      "\u001b[0;31m---------------------------------------------------------------------------\u001b[0m",
      "\u001b[0;31mNameError\u001b[0m                                 Traceback (most recent call last)",
      "\u001b[0;32m/var/folders/fn/yld5z5p52q34cgp7bxwnlx580000gn/T/ipykernel_47984/1019449741.py\u001b[0m in \u001b[0;36m<module>\u001b[0;34m\u001b[0m\n\u001b[0;32m----> 1\u001b[0;31m \u001b[0morn\u001b[0m \u001b[0;34m=\u001b[0m \u001b[0mgpd\u001b[0m\u001b[0;34m.\u001b[0m\u001b[0mread_file\u001b[0m\u001b[0;34m(\u001b[0m\u001b[0;34m\"data/ORN_data/ORN.geojson\"\u001b[0m\u001b[0;34m)\u001b[0m\u001b[0;34m\u001b[0m\u001b[0;34m\u001b[0m\u001b[0m\n\u001b[0m\u001b[1;32m      2\u001b[0m \u001b[0morn\u001b[0m \u001b[0;34m=\u001b[0m \u001b[0morn\u001b[0m\u001b[0;34m.\u001b[0m\u001b[0mset_crs\u001b[0m\u001b[0;34m(\u001b[0m\u001b[0;34m\"EPSG:4326\"\u001b[0m\u001b[0;34m)\u001b[0m  \u001b[0;31m# confirm the CRS matches KSI\u001b[0m\u001b[0;34m\u001b[0m\u001b[0;34m\u001b[0m\u001b[0m\n",
      "\u001b[0;31mNameError\u001b[0m: name 'gpd' is not defined"
     ]
    }
   ],
   "source": [
    "orn = gpd.read_file(\"data/ORN_data/ORN.geojson\")\n",
    "orn = orn.set_crs(\"EPSG:4326\")  # confirm the CRS matches KSI"
   ]
  }
 ],
 "metadata": {
  "kernelspec": {
   "display_name": "newenv",
   "language": "python",
   "name": "python3"
  },
  "language_info": {
   "codemirror_mode": {
    "name": "ipython",
    "version": 3
   },
   "file_extension": ".py",
   "mimetype": "text/x-python",
   "name": "python",
   "nbconvert_exporter": "python",
   "pygments_lexer": "ipython3",
   "version": "3.9.13"
  }
 },
 "nbformat": 4,
 "nbformat_minor": 5
}
