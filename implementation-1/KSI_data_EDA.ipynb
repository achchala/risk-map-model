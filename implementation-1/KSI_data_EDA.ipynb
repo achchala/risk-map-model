{
  "cells": [
    {
      "cell_type": "code",
      "execution_count": 1,
      "id": "e82c6b2b",
      "metadata": {},
      "outputs": [
        {
          "name": "stderr",
          "output_type": "stream",
          "text": [
            "/Users/achchala/opt/anaconda3/envs/newenv/lib/python3.9/site-packages/pandas/core/arrays/masked.py:61: UserWarning: Pandas requires version '1.3.6' or newer of 'bottleneck' (version '1.3.5' currently installed).\n",
            "  from pandas.core import (\n"
          ]
        }
      ],
      "source": [
        "import pandas as pd\n",
        "\n",
        "ksi_df = pd.read_csv(\"data/KSI.csv\")  # Adjust filename as needed"
      ]
    },
    {
      "cell_type": "code",
      "execution_count": null,
      "id": "c981dfb8",
      "metadata": {},
      "outputs": [],
      "source": [
        "import geopandas as gpd\n",
        "x\n",
        "ksi_gdf = gpd.read_file(\"data/KSI.geojson\")  # or .shp\n"
      ]
    },
    {
      "cell_type": "code",
      "execution_count": 3,
      "id": "4671600a",
      "metadata": {},
      "outputs": [],
      "source": [
        "from shapely.geometry import Point\n",
        "import geopandas as gpd\n",
        "\n",
        "# Drop missing coordinates\n",
        "ksi_df = ksi_df.dropna(subset=['LATITUDE', 'LONGITUDE'])\n",
        "\n",
        "# Combine into geometry\n",
        "geometry = [Point(xy) for xy in zip(ksi_df['LONGITUDE'], ksi_df['LATITUDE'])]\n",
        "ksi_gdf = gpd.GeoDataFrame(ksi_df, geometry=geometry, crs='EPSG:4326')"
      ]
    },
    {
      "cell_type": "code",
      "execution_count": 6,
      "id": "f6b0cd84",
      "metadata": {},
      "outputs": [
        {
          "data": {
            "text/html": [
              "<div>\n",
              "<style scoped>\n",
              "    .dataframe tbody tr th:only-of-type {\n",
              "        vertical-align: middle;\n",
              "    }\n",
              "\n",
              "    .dataframe tbody tr th {\n",
              "        vertical-align: top;\n",
              "    }\n",
              "\n",
              "    .dataframe thead th {\n",
              "        text-align: right;\n",
              "    }\n",
              "</style>\n",
              "<table border=\"1\" class=\"dataframe\">\n",
              "  <thead>\n",
              "    <tr style=\"text-align: right;\">\n",
              "      <th></th>\n",
              "      <th>DATE</th>\n",
              "      <th>DATETIME</th>\n",
              "      <th>hour</th>\n",
              "      <th>weekday_name</th>\n",
              "      <th>month</th>\n",
              "      <th>year</th>\n",
              "    </tr>\n",
              "  </thead>\n",
              "  <tbody>\n",
              "    <tr>\n",
              "      <th>0</th>\n",
              "      <td>1/1/2006 10:00:00 AM</td>\n",
              "      <td>2006-01-01 10:00:00</td>\n",
              "      <td>10</td>\n",
              "      <td>Sun</td>\n",
              "      <td>1</td>\n",
              "      <td>2006</td>\n",
              "    </tr>\n",
              "    <tr>\n",
              "      <th>1</th>\n",
              "      <td>1/1/2006 10:00:00 AM</td>\n",
              "      <td>2006-01-01 10:00:00</td>\n",
              "      <td>10</td>\n",
              "      <td>Sun</td>\n",
              "      <td>1</td>\n",
              "      <td>2006</td>\n",
              "    </tr>\n",
              "    <tr>\n",
              "      <th>2</th>\n",
              "      <td>1/1/2006 10:00:00 AM</td>\n",
              "      <td>2006-01-01 10:00:00</td>\n",
              "      <td>10</td>\n",
              "      <td>Sun</td>\n",
              "      <td>1</td>\n",
              "      <td>2006</td>\n",
              "    </tr>\n",
              "    <tr>\n",
              "      <th>3</th>\n",
              "      <td>1/1/2006 10:00:00 AM</td>\n",
              "      <td>2006-01-01 10:00:00</td>\n",
              "      <td>10</td>\n",
              "      <td>Sun</td>\n",
              "      <td>1</td>\n",
              "      <td>2006</td>\n",
              "    </tr>\n",
              "    <tr>\n",
              "      <th>4</th>\n",
              "      <td>1/1/2006 10:00:00 AM</td>\n",
              "      <td>2006-01-01 10:00:00</td>\n",
              "      <td>10</td>\n",
              "      <td>Sun</td>\n",
              "      <td>1</td>\n",
              "      <td>2006</td>\n",
              "    </tr>\n",
              "  </tbody>\n",
              "</table>\n",
              "</div>"
            ],
            "text/plain": [
              "                   DATE            DATETIME  hour weekday_name  month  year\n",
              "0  1/1/2006 10:00:00 AM 2006-01-01 10:00:00    10          Sun      1  2006\n",
              "1  1/1/2006 10:00:00 AM 2006-01-01 10:00:00    10          Sun      1  2006\n",
              "2  1/1/2006 10:00:00 AM 2006-01-01 10:00:00    10          Sun      1  2006\n",
              "3  1/1/2006 10:00:00 AM 2006-01-01 10:00:00    10          Sun      1  2006\n",
              "4  1/1/2006 10:00:00 AM 2006-01-01 10:00:00    10          Sun      1  2006"
            ]
          },
          "execution_count": 6,
          "metadata": {},
          "output_type": "execute_result"
        }
      ],
      "source": [
        "# Step 3: Parse full datetime string from 'DATE' column\n",
        "ksi_df['DATETIME'] = pd.to_datetime(ksi_df['DATE'], format=\"%m/%d/%Y %I:%M:%S %p\", errors='coerce')\n",
        "\n",
        "# Drop failed parses (NaT)\n",
        "ksi_df = ksi_df.dropna(subset=['DATETIME'])\n",
        "\n",
        "# Extract features\n",
        "ksi_df['hour'] = ksi_df['DATETIME'].dt.hour\n",
        "ksi_df['weekday'] = ksi_df['DATETIME'].dt.dayofweek\n",
        "ksi_df['month'] = ksi_df['DATETIME'].dt.month\n",
        "ksi_df['year'] = ksi_df['DATETIME'].dt.year\n",
        "ksi_df['weekday_name'] = ksi_df['weekday'].map({0:'Mon', 1:'Tue', 2:'Wed', 3:'Thu', 4:'Fri', 5:'Sat', 6:'Sun'})\n",
        "\n",
        "# Preview\n",
        "ksi_df[['DATE', 'DATETIME', 'hour', 'weekday_name', 'month', 'year']].head()"
      ]
    },
    {
      "cell_type": "code",
      "execution_count": 7,
      "id": "816d38a3",
      "metadata": {},
      "outputs": [
        {
          "data": {
            "image/png": "[encoded data removed]",
            "text/plain": [
              "<Figure size 1000x500 with 1 Axes>"
            ]
          },
          "metadata": {},
          "output_type": "display_data"
        }
      ],
      "source": [
        "# Step 4: Visualize collisions by hour\n",
        "import seaborn as sns\n",
        "import matplotlib.pyplot as plt\n",
        "\n",
        "plt.figure(figsize=(10, 5))\n",
        "sns.countplot(x='hour', data=ksi_df)\n",
        "plt.title(\"Collisions by Hour of Day\")\n",
        "plt.grid(True)\n",
        "plt.show()"
      ]
    },
    {
      "cell_type": "code",
      "execution_count": 8,
      "id": "61f1c3df",
      "metadata": {},
      "outputs": [
        {
          "name": "stdout",
          "output_type": "stream",
          "text": [
            "0    1/1/2006 10:00:00 AM\n",
            "1    1/1/2006 10:00:00 AM\n",
            "2    1/1/2006 10:00:00 AM\n",
            "3    1/1/2006 10:00:00 AM\n",
            "4    1/1/2006 10:00:00 AM\n",
            "Name: DATE, dtype: object\n",
            "0   2006-01-01 10:00:00\n",
            "1   2006-01-01 10:00:00\n",
            "2   2006-01-01 10:00:00\n",
            "3   2006-01-01 10:00:00\n",
            "4   2006-01-01 10:00:00\n",
            "Name: DATETIME, dtype: datetime64[ns]\n",
            "hour\n",
            "8     13093\n",
            "9       102\n",
            "10     5762\n",
            "Name: count, dtype: int64\n"
          ]
        }
      ],
      "source": [
        "print(ksi_df['DATE'].head(5))\n",
        "print(ksi_df['DATETIME'].head(5))\n",
        "print(ksi_df['hour'].value_counts().sort_index())"
      ]
    }
  ],
  "metadata": {
    "kernelspec": {
      "display_name": "newenv",
      "language": "python",
      "name": "python3"
    },
    "language_info": {
      "codemirror_mode": {
        "name": "ipython",
        "version": 3
      },
      "file_extension": ".py",
      "mimetype": "text/x-python",
      "name": "python",
      "nbconvert_exporter": "python",
      "pygments_lexer": "ipython3",
      "version": "3.9.13"
    }
  },
  "nbformat": 4,
  "nbformat_minor": 5
}
