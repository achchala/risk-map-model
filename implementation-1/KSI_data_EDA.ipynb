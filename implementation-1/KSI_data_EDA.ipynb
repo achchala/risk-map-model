{
  "cells": [
    {
      "cell_type": "code",
      "execution_count": 10,
      "id": "e82c6b2b",
      "metadata": {},
      "outputs": [],
      "source": [
        "import pandas as pd\n",
        "\n",
        "ksi_df = pd.read_csv(\"data/KSI.csv\")  # Adjust filename as needed"
      ]
    },
    {
      "cell_type": "code",
      "execution_count": 11,
      "id": "c981dfb8",
      "metadata": {},
      "outputs": [
        {
          "ename": "ModuleNotFoundError",
          "evalue": "No module named 'geopandas'",
          "output_type": "error",
          "traceback": [
            "\u001b[0;31m---------------------------------------------------------------------------\u001b[0m",
            "\u001b[0;31mModuleNotFoundError\u001b[0m                       Traceback (most recent call last)",
            "\u001b[0;32m/var/folders/fn/yld5z5p52q34cgp7bxwnlx580000gn/T/ipykernel_32647/1462299214.py\u001b[0m in \u001b[0;36m<module>\u001b[0;34m\u001b[0m\n\u001b[0;32m----> 1\u001b[0;31m \u001b[0;32mimport\u001b[0m \u001b[0mgeopandas\u001b[0m \u001b[0;32mas\u001b[0m \u001b[0mgpd\u001b[0m\u001b[0;34m\u001b[0m\u001b[0;34m\u001b[0m\u001b[0m\n\u001b[0m\u001b[1;32m      2\u001b[0m \u001b[0;34m\u001b[0m\u001b[0m\n\u001b[1;32m      3\u001b[0m \u001b[0mksi_gdf\u001b[0m \u001b[0;34m=\u001b[0m \u001b[0mgpd\u001b[0m\u001b[0;34m.\u001b[0m\u001b[0mread_file\u001b[0m\u001b[0;34m(\u001b[0m\u001b[0;34m\"data/KSI.geojson\"\u001b[0m\u001b[0;34m)\u001b[0m  \u001b[0;31m# or .shp\u001b[0m\u001b[0;34m\u001b[0m\u001b[0;34m\u001b[0m\u001b[0m\n",
            "\u001b[0;31mModuleNotFoundError\u001b[0m: No module named 'geopandas'"
          ]
        }
      ],
      "source": [
        "import geopandas as gpd\n",
        "\n",
        "ksi_gdf = gpd.read_file(\"data/KSI.geojson\")  # or .shp"
      ]
    },
    {
      "cell_type": "code",
      "execution_count": null,
      "id": "4671600a",
      "metadata": {},
      "outputs": [
        {
          "ename": "ModuleNotFoundError",
          "evalue": "No module named 'shapely'",
          "output_type": "error",
          "traceback": [
            "\u001b[0;31m---------------------------------------------------------------------------\u001b[0m",
            "\u001b[0;31mModuleNotFoundError\u001b[0m                       Traceback (most recent call last)",
            "\u001b[0;32m/var/folders/fn/yld5z5p52q34cgp7bxwnlx580000gn/T/ipykernel_21172/3844304105.py\u001b[0m in \u001b[0;36m<module>\u001b[0;34m\u001b[0m\n\u001b[0;32m----> 1\u001b[0;31m \u001b[0;32mfrom\u001b[0m \u001b[0mshapely\u001b[0m\u001b[0;34m.\u001b[0m\u001b[0mgeometry\u001b[0m \u001b[0;32mimport\u001b[0m \u001b[0mPoint\u001b[0m\u001b[0;34m\u001b[0m\u001b[0;34m\u001b[0m\u001b[0m\n\u001b[0m\u001b[1;32m      2\u001b[0m \u001b[0;32mimport\u001b[0m \u001b[0mgeopandas\u001b[0m \u001b[0;32mas\u001b[0m \u001b[0mgpd\u001b[0m\u001b[0;34m\u001b[0m\u001b[0;34m\u001b[0m\u001b[0m\n\u001b[1;32m      3\u001b[0m \u001b[0;34m\u001b[0m\u001b[0m\n\u001b[1;32m      4\u001b[0m \u001b[0;31m# Drop missing coordinates\u001b[0m\u001b[0;34m\u001b[0m\u001b[0;34m\u001b[0m\u001b[0m\n\u001b[1;32m      5\u001b[0m \u001b[0mksi_df\u001b[0m \u001b[0;34m=\u001b[0m \u001b[0mksi_df\u001b[0m\u001b[0;34m.\u001b[0m\u001b[0mdropna\u001b[0m\u001b[0;34m(\u001b[0m\u001b[0msubset\u001b[0m\u001b[0;34m=\u001b[0m\u001b[0;34m[\u001b[0m\u001b[0;34m'LATITUDE'\u001b[0m\u001b[0;34m,\u001b[0m \u001b[0;34m'LONGITUDE'\u001b[0m\u001b[0;34m]\u001b[0m\u001b[0;34m)\u001b[0m\u001b[0;34m\u001b[0m\u001b[0;34m\u001b[0m\u001b[0m\n",
            "\u001b[0;31mModuleNotFoundError\u001b[0m: No module named 'shapely'"
          ]
        }
      ],
      "source": [
        "from shapely.geometry import Point\n",
        "import geopandas as gpd\n",
        "\n",
        "# Drop missing coordinates\n",
        "ksi_df = ksi_df.dropna(subset=['LATITUDE', 'LONGITUDE'])\n",
        "\n",
        "# Combine into geometry\n",
        "geometry = [Point(xy) for xy in zip(ksi_df['LONGITUDE'], ksi_df['LATITUDE'])]\n",
        "ksi_gdf = gpd.GeoDataFrame(ksi_df, geometry=geometry, crs='EPSG:4326')"
      ]
    },
    {
      "cell_type": "code",
      "execution_count": null,
      "id": "f6b0cd84",
      "metadata": {},
      "outputs": [],
      "source": [
        "# Strip column names\n",
        "ksi_gdf.columns = ksi_gdf.columns.str.strip()\n",
        "\n",
        "# Convert date/time\n",
        "# Convert TIME to string format (HHMM -> HH:MM)\n",
        "ksi_gdf['TIME_STR'] = ksi_gdf['TIME'].astype(str).str.zfill(4).str[:2] + ':' + ksi_gdf['TIME'].astype(str).str.zfill(4).str[2:]\n",
        "ksi_gdf['DATETIME'] = pd.to_datetime(ksi_gdf['DATE'] + ' ' + ksi_gdf['TIME_STR'], errors='coerce')\n",
        "ksi_gdf['hour'] = ksi_gdf['DATETIME'].dt.hour\n",
        "ksi_gdf['weekday'] = ksi_gdf['DATETIME'].dt.dayofweek\n",
        "\n",
        "# Encode severity\n",
        "ksi_gdf['severity_score'] = 5  # All entries are Killed or Seriously Injured\n",
        "\n",
        "# Optional: simplify or encode weather/light conditions if present\n",
        "if 'LIGHT' in ksi_gdf.columns:\n",
        "    ksi_gdf['light_code'] = ksi_gdf['LIGHT'].astype('category').cat.codes\n",
        "\n",
        "if 'WEATHER' in ksi_gdf.columns:\n",
        "    ksi_gdf['weather_code'] = ksi_gdf['WEATHER'].astype('category').cat.codes"
      ]
    }
  ],
  "metadata": {
    "kernelspec": {
      "display_name": "newenv",
      "language": "python",
      "name": "python3"
    },
    "language_info": {
      "codemirror_mode": {
        "name": "ipython",
        "version": 3
      },
      "file_extension": ".py",
      "mimetype": "text/x-python",
      "name": "python",
      "nbconvert_exporter": "python",
      "pygments_lexer": "ipython3",
      "version": "3.9.13"
    }
  },
  "nbformat": 4,
  "nbformat_minor": 5
}
